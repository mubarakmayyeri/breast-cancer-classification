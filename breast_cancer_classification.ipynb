{
 "cells": [
  {
   "cell_type": "markdown",
   "id": "8c851462",
   "metadata": {},
   "source": [
    "# Breast Cancer Classification Using Machine Learning"
   ]
  },
  {
   "cell_type": "markdown",
   "id": "219fff99",
   "metadata": {},
   "source": [
    "### Problem Statement"
   ]
  },
  {
   "cell_type": "markdown",
   "id": "f56e17e4",
   "metadata": {},
   "source": [
    "Find out whether the cancer is benign or malignant"
   ]
  },
  {
   "cell_type": "code",
   "execution_count": 1,
   "id": "fedb5755",
   "metadata": {},
   "outputs": [],
   "source": [
    "#importing libraries\n",
    "import pandas as pd\n",
    "import numpy as np\n",
    "import matplotlib.pyplot as plt\n",
    "import seaborn as sns\n",
    "\n",
    "import warnings\n",
    "warnings.filterwarnings('ignore')"
   ]
  },
  {
   "cell_type": "markdown",
   "id": "1826121d",
   "metadata": {},
   "source": [
    "### Reading the dataset"
   ]
  },
  {
   "cell_type": "code",
   "execution_count": null,
   "id": "917aa068",
   "metadata": {},
   "outputs": [],
   "source": [
    "df = pd.read_csv('data/')"
   ]
  }
 ],
 "metadata": {
  "kernelspec": {
   "display_name": "env",
   "language": "python",
   "name": "env"
  },
  "language_info": {
   "codemirror_mode": {
    "name": "ipython",
    "version": 3
   },
   "file_extension": ".py",
   "mimetype": "text/x-python",
   "name": "python",
   "nbconvert_exporter": "python",
   "pygments_lexer": "ipython3",
   "version": "3.10.7"
  }
 },
 "nbformat": 4,
 "nbformat_minor": 5
}
